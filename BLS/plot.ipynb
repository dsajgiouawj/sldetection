{
 "cells": [
  {
   "cell_type": "code",
   "execution_count": 1,
   "id": "76484289",
   "metadata": {},
   "outputs": [],
   "source": [
    "import sys\n",
    "import os\n",
    "sys.path.append('D:\\\\SynologyDrive\\\\Univ\\\\kenkyuu\\\\gtrap\\\\gtrap')\n",
    "os.environ['CPLUS_INCLUDE_PATH']=r'D:\\SynologyDrive\\Univ\\kenkyuu\\gtrap\\include'"
   ]
  },
  {
   "cell_type": "code",
   "execution_count": 2,
   "id": "b79ea42a",
   "metadata": {},
   "outputs": [],
   "source": [
    "import time\n",
    "import matplotlib.pyplot as plt\n",
    "import math\n",
    "import numpy as np\n",
    "import getstat\n",
    "import read_tesslc as tes\n",
    "from astropy.io import fits"
   ]
  },
  {
   "cell_type": "code",
   "execution_count": 3,
   "id": "b8dc9ebc",
   "metadata": {},
   "outputs": [],
   "source": [
    "def filename(sector,tic):\n",
    "    if sector<=13:\n",
    "        filename='F'\n",
    "    else:\n",
    "        filename='G'\n",
    "    filename=filename+':\\\\/QLP/YEAR'\n",
    "    if sector<=13:\n",
    "        filename=filename+'1'\n",
    "    else:\n",
    "        filename=filename+'2'\n",
    "    filename=filename+'/s'+str(sector).zfill(4)+'/'\n",
    "    filename=filename+str(tic//1000000000000).zfill(4)+'/'+str(tic//100000000%10000).zfill(4)+'/'+str(tic//10000%10000).zfill(4)+'/'+str(tic%10000).zfill(4)+'/'\n",
    "    filename=filename+'hlsp_qlp_tess_ffi_s'+str(sector).zfill(4)+'-'+str(tic).zfill(16)+'_tess_v01_llc.fits'\n",
    "    return filename  "
   ]
  },
  {
   "cell_type": "code",
   "execution_count": 18,
   "id": "2335fc77",
   "metadata": {},
   "outputs": [
    {
     "name": "stdout",
     "output_type": "stream",
     "text": [
      "['F:\\\\/QLP/YEAR1/s0002/0000/0000/3040/7196/hlsp_qlp_tess_ffi_s0002-0000000030407196_tess_v01_llc.fits']\n",
      "2 :0.016956567764282227[sec]\n",
      "2000 [1245] 1\n"
     ]
    }
   ],
   "source": [
    "start = time.time()\n",
    "dirlist=[filename(2,30407196)]\n",
    "print(dirlist)\n",
    "lc,tu,n,ntrue,nq,inval, bjdoffset,t0arr, t, det, info=tes.load_tesslc(dirlist)\n",
    "elapsed_time = time.time() - start\n",
    "print ((\"2 :{0}\".format(elapsed_time)) + \"[sec]\")\n",
    "print(n,ntrue,nq)"
   ]
  },
  {
   "cell_type": "code",
   "execution_count": 19,
   "id": "0a457804",
   "metadata": {},
   "outputs": [],
   "source": [
    "lc=lc[tu!=[inval]]\n",
    "tu=tu[tu!=[inval]]\n",
    "lc=lc[tu!=[0.]]\n",
    "tu=tu[tu!=[0.]]\n",
    "lc=lc.reshape([len(lc),1])\n",
    "tu=tu.reshape([len(tu),1])\n",
    "n=len(lc)\n",
    "ntrue=np.array([n])"
   ]
  },
  {
   "cell_type": "code",
   "execution_count": 20,
   "id": "5689ca6f",
   "metadata": {},
   "outputs": [],
   "source": [
    "offset,imgout=np.mean(lc,axis=1),lc #???"
   ]
  },
  {
   "cell_type": "code",
   "execution_count": 23,
   "id": "3ab0864b",
   "metadata": {},
   "outputs": [
    {
     "name": "stdout",
     "output_type": "stream",
     "text": [
      "[0.9829835] [1.0026405]\n"
     ]
    }
   ],
   "source": [
    "P=0.424037858099971\n",
    "pphase1=0.248459682\n",
    "pphase2=0.33666287\n",
    "t0=-1\n",
    "Epoc=(pphase1+pphase2)/2\n",
    "Duration=(pphase2-pphase1)\n",
    "\n",
    "def average_in_transit(time,flux,duration,period,t0):\n",
    "  n=0\n",
    "  sum=0\n",
    "  for i in range(0,len(time)):\n",
    "    t=(time[i]-t0)%period\n",
    "    assert 0<=t and t<=period\n",
    "    if (duration/2<=t and t<=period-duration/2) or time[i]<=0.1:\n",
    "      pass\n",
    "    else:\n",
    "      n+=1\n",
    "      sum+=flux[i]\n",
    "  if n==0:\n",
    "    return 0\n",
    "  return sum/n\n",
    "def average_out_of_transit(time,flux,duration,period,t0):\n",
    "  n=0\n",
    "  sum=0\n",
    "  for i in range(0,len(time)):\n",
    "    t=(time[i]-t0)%period\n",
    "    assert 0<=t and t<=period\n",
    "    if (duration/2<=t and t<=period-duration/2) and time[i]>0.1:\n",
    "      n+=1\n",
    "      sum+=flux[i]\n",
    "  if n==0:\n",
    "    return 0\n",
    "  return sum/n\n",
    "\n",
    "print(average_in_transit(tu,imgout,Duration,P,Epoc),average_out_of_transit(tu,imgout,Duration,P,Epoc))"
   ]
  },
  {
   "cell_type": "code",
   "execution_count": 24,
   "id": "395d8718",
   "metadata": {},
   "outputs": [
    {
     "data": {
      "image/png": "[encoded data removed]",
      "text/plain": [
       "<Figure size 720x720 with 1 Axes>"
      ]
     },
     "metadata": {
      "needs_background": "light"
     },
     "output_type": "display_data"
    }
   ],
   "source": [
    "    Pest=[P]\n",
    "    fig = plt.figure(figsize=(10,10))\n",
    "    for j in range(0,np.min([nq,5])):\n",
    "        ax=fig.add_subplot(np.min([nq,5]),1,j+1)\n",
    "        ax.plot(np.mod(tu[:,j],Pest[j]), imgout[:,j],\".\",markersize=3)\n",
    "    plt.xlabel(\"t\")\n",
    "    plt.show()"
   ]
  },
  {
   "cell_type": "code",
   "execution_count": null,
   "id": "78fde323",
   "metadata": {},
   "outputs": [],
   "source": []
  },
  {
   "cell_type": "code",
   "execution_count": null,
   "id": "d27554d2",
   "metadata": {},
   "outputs": [],
   "source": []
  },
  {
   "cell_type": "code",
   "execution_count": null,
   "id": "496bd84b",
   "metadata": {},
   "outputs": [],
   "source": []
  }
 ],
 "metadata": {
  "kernelspec": {
   "display_name": "tf1env",
   "language": "python",
   "name": "tf1env"
  },
  "language_info": {
   "codemirror_mode": {
    "name": "ipython",
    "version": 3
   },
   "file_extension": ".py",
   "mimetype": "text/x-python",
   "name": "python",
   "nbconvert_exporter": "python",
   "pygments_lexer": "ipython3",
   "version": "3.7.11"
  }
 },
 "nbformat": 4,
 "nbformat_minor": 5
}
