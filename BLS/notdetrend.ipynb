{
 "cells": [
  {
   "cell_type": "code",
   "execution_count": 1,
   "id": "76484289",
   "metadata": {},
   "outputs": [],
   "source": [
    "import sys\n",
    "import os\n",
    "sys.path.append('D:\\\\SynologyDrive\\\\Univ\\\\kenkyuu\\\\gtrap\\\\gtrap')\n",
    "os.environ['CPLUS_INCLUDE_PATH']=r'D:\\SynologyDrive\\Univ\\kenkyuu\\gtrap\\include'"
   ]
  },
  {
   "cell_type": "code",
   "execution_count": null,
   "id": "ded47372",
   "metadata": {},
   "outputs": [],
   "source": []
  },
  {
   "cell_type": "code",
   "execution_count": 2,
   "id": "b79ea42a",
   "metadata": {},
   "outputs": [],
   "source": [
    "import time\n",
    "import matplotlib.pyplot as plt\n",
    "import math\n",
    "import numpy as np\n",
    "import pycuda.autoinit\n",
    "import pycuda.driver as cuda\n",
    "import pycuda.compiler\n",
    "from pycuda.compiler import SourceModule\n",
    "import geebls\n",
    "import gfilter\n",
    "import getstat\n",
    "import read_tesslc as tes\n",
    "from astropy.io import fits"
   ]
  },
  {
   "cell_type": "code",
   "execution_count": 3,
   "id": "b8dc9ebc",
   "metadata": {},
   "outputs": [],
   "source": [
    "def filename(sector,tic):\n",
    "    if sector<=13:\n",
    "        filename='F'\n",
    "    else:\n",
    "        filename='G'\n",
    "    filename=filename+':\\\\/QLP/YEAR'\n",
    "    if sector<=13:\n",
    "        filename=filename+'1'\n",
    "    else:\n",
    "        filename=filename+'2'\n",
    "    filename=filename+'/s'+str(sector).zfill(4)+'/'\n",
    "    filename=filename+str(tic//1000000000000).zfill(4)+'/'+str(tic//100000000%10000).zfill(4)+'/'+str(tic//10000%10000).zfill(4)+'/'+str(tic%10000).zfill(4)+'/'\n",
    "    filename=filename+'hlsp_qlp_tess_ffi_s'+str(sector).zfill(4)+'-'+str(tic).zfill(16)+'_tess_v01_llc.fits'\n",
    "    return filename  "
   ]
  },
  {
   "cell_type": "code",
   "execution_count": 31,
   "id": "2335fc77",
   "metadata": {},
   "outputs": [
    {
     "name": "stdout",
     "output_type": "stream",
     "text": [
      "['F:\\\\/QLP/YEAR1/s0001/0000/0002/3166/3901/hlsp_qlp_tess_ffi_s0001-0000000231663901_tess_v01_llc.fits']\n",
      "2 :0.08364152908325195[sec]\n",
      "2000 [1281] 1\n"
     ]
    }
   ],
   "source": [
    "start = time.time()\n",
    "dirlist=[filename(1,231663901)]\n",
    "print(dirlist)\n",
    "lc,tu,n,ntrue,nq,inval, bjdoffset,t0arr, t, det, info=tes.load_tesslc(dirlist)\n",
    "#lc=2.0-lc\n",
    "elapsed_time = time.time() - start\n",
    "print ((\"2 :{0}\".format(elapsed_time)) + \"[sec]\")\n",
    "print(n,ntrue,nq)"
   ]
  },
  {
   "cell_type": "code",
   "execution_count": 32,
   "id": "0a457804",
   "metadata": {},
   "outputs": [],
   "source": [
    "lc=lc[tu!=[inval]]\n",
    "tu=tu[tu!=[inval]]\n",
    "lc=lc[tu!=[0.]]\n",
    "tu=tu[tu!=[0.]]\n",
    "lc=lc.reshape([len(lc),1])\n",
    "tu=tu.reshape([len(tu),1])\n",
    "n=len(lc)\n",
    "ntrue=np.array([n])"
   ]
  },
  {
   "cell_type": "code",
   "execution_count": 33,
   "id": "d2a3789e",
   "metadata": {},
   "outputs": [
    {
     "name": "stdout",
     "output_type": "stream",
     "text": [
      "[[1326.3906]\n",
      " [1326.4115]\n",
      " [1326.4324]\n",
      " ...\n",
      " [1354.0568]\n",
      " [1354.0776]\n",
      " [1354.0984]]\n"
     ]
    }
   ],
   "source": [
    "print(tu)"
   ]
  },
  {
   "cell_type": "code",
   "execution_count": 43,
   "id": "564b7dca",
   "metadata": {},
   "outputs": [
    {
     "name": "stdout",
     "output_type": "stream",
     "text": [
      "[[1.0016263 ]\n",
      " [0.9999763 ]\n",
      " [0.99917203]\n",
      " ...\n",
      " [1.0022397 ]\n",
      " [0.99910796]\n",
      " [0.997668  ]] <class 'numpy.ndarray'> <class 'numpy.ndarray'>\n"
     ]
    }
   ],
   "source": [
    "print(lc,type(lc),type(lc[0]))"
   ]
  },
  {
   "cell_type": "code",
   "execution_count": null,
   "id": "cbe10d77",
   "metadata": {},
   "outputs": [],
   "source": []
  },
  {
   "cell_type": "code",
   "execution_count": null,
   "id": "237fb4f5",
   "metadata": {},
   "outputs": [],
   "source": []
  },
  {
   "cell_type": "code",
   "execution_count": 34,
   "id": "5689ca6f",
   "metadata": {},
   "outputs": [],
   "source": [
    "offset,imgout=np.mean(lc,axis=1),lc #???"
   ]
  },
  {
   "cell_type": "code",
   "execution_count": 35,
   "id": "8d08b4b0",
   "metadata": {},
   "outputs": [
    {
     "name": "stdout",
     "output_type": "stream",
     "text": [
      "Pmin= 0.19607920031058948 [d] Pmax= 10.0 [d]\n",
      "166666\n"
     ]
    }
   ],
   "source": [
    "qmi = 0.01\n",
    "qma = 0.1\n",
    "max_period=10.0\n",
    "min_period=0.2 \n",
    "fmin=(1./(float(max_period)))                                          \n",
    "df = 0.00003                                                                 \n",
    "nf =  int((1./min_period)/df)\n",
    "nb = 1024\n",
    "min_duration_hours = 0.05\n",
    "max_duration_hours = 1.0\n",
    "qmi = float(min_duration_hours)/24./max_period\n",
    "qma = float(max_duration_hours)/24./min_period                                                 \n",
    "nb = 1024\n",
    "print(\"Pmin=\",1/(fmin+nf*df),\"[d] Pmax=\",1/fmin,\"[d]\")\n",
    "print(nf)"
   ]
  },
  {
   "cell_type": "code",
   "execution_count": 36,
   "id": "e0d0b107",
   "metadata": {},
   "outputs": [
    {
     "name": "stdout",
     "output_type": "stream",
     "text": [
      "gbls :1.5235557556152344[sec] for # of batch=1\n"
     ]
    }
   ],
   "source": [
    "    tu=np.array(tu,order=\"C\").astype(np.float32)\n",
    "    start = time.time()\n",
    "    dev_offset = cuda.mem_alloc(offset.astype(np.float32).nbytes)\n",
    "    cuda.memcpy_htod(dev_offset,offset.astype(np.float32))\n",
    "    \n",
    "    dev_imgout=cuda.mem_alloc(imgout.astype(np.float32).nbytes)\n",
    "    cuda.memcpy_htod(dev_imgout,imgout.astype(np.float32))\n",
    "    \n",
    "    dev_ntrue = cuda.mem_alloc(ntrue.nbytes)\n",
    "    cuda.memcpy_htod(dev_ntrue,ntrue)\n",
    "    \n",
    "    dev_tu = cuda.mem_alloc(tu.astype(np.float32).nbytes)\n",
    "    cuda.memcpy_htod(dev_tu,tu.astype(np.float32))\n",
    "    \n",
    "    blsp=np.zeros(nf*nq).astype(np.float32)\n",
    "    dev_blsp = cuda.mem_alloc(blsp.nbytes)\n",
    "    \n",
    "    phase1=np.zeros(nf*nq).astype(np.uint32)\n",
    "    dev_phase1 = cuda.mem_alloc(phase1.nbytes) \n",
    "    phase2=np.zeros(nf*nq).astype(np.uint32)\n",
    "    dev_phase2 = cuda.mem_alloc(phase2.nbytes)  \n",
    "    source_module=geebls.gbls_module()\n",
    "    nthread=512\n",
    "    pkernel=source_module.get_function(\"geebls\")\n",
    "    \n",
    "    ##compute kma,kmi,kkmi\n",
    "    kma=int(qma*nb)+1\n",
    "    kmi=int(qmi*nb)\n",
    "    kkmi=int(n*qmi)\n",
    "    sharedsize=int(4*(nb+kma)*2+4*nb)\n",
    "    pkernel(dev_blsp,dev_phase1,dev_phase2,dev_imgout,dev_tu,dev_offset,dev_ntrue,\\\n",
    "            np.uint32(n),np.uint32(nf),np.uint32(nb),\\\n",
    "            np.uint32(kma),np.uint32(kmi),np.uint32(kkmi),\\\n",
    "            np.float32(fmin),np.float32(df),\\\n",
    "            block=(nthread,1,1), grid=(int(nf),int(nq)),shared=sharedsize)\n",
    "    #cuda.memcpy_dtoh(blsp,dev_blsp)\n",
    "    #print(blsp)\n",
    "\n",
    "    elapsed_time = time.time() - start\n",
    "    print ((\"gbls :{0}\".format(elapsed_time)) + \"[sec] for # of batch=\"+str(nq))"
   ]
  },
  {
   "cell_type": "code",
   "execution_count": 37,
   "id": "ba01b2b2",
   "metadata": {},
   "outputs": [],
   "source": [
    "Pest,sde,phasebest1,phasebest2=getstat.get_blsstat(dev_blsp,dev_phase1,dev_phase2,nf,nq,df,fmin)"
   ]
  },
  {
   "cell_type": "code",
   "execution_count": 38,
   "id": "9f581520",
   "metadata": {},
   "outputs": [
    {
     "name": "stdout",
     "output_type": "stream",
     "text": [
      "[1.43034915]\n",
      "[9.82068735]\n",
      "[0.73046875]\n",
      "1024\n",
      "[1.04482535]\n",
      "[1.10349202]\n",
      "[1.40799994]\n"
     ]
    }
   ],
   "source": [
    "print(Pest)\n",
    "print(sde)\n",
    "print(phasebest1/nb)\n",
    "print(nb)\n",
    "pphase1=Pest*phasebest1/nb\n",
    "pphase2=Pest*phasebest2/nb\n",
    "print(pphase1)\n",
    "print(pphase2)\n",
    "print((pphase2-pphase1)*24)"
   ]
  },
  {
   "cell_type": "code",
   "execution_count": 39,
   "id": "9b4cd025",
   "metadata": {},
   "outputs": [],
   "source": [
    "#load BLS spectra on device\n",
    "#cuda.memcpy_dtoh(blsp,dev_blsp)\n",
    "#print(blsp)"
   ]
  },
  {
   "cell_type": "code",
   "execution_count": 40,
   "id": "0649a445",
   "metadata": {},
   "outputs": [],
   "source": [
    "dev_offset.free()\n",
    "dev_imgout.free()\n",
    "dev_ntrue.free()\n",
    "dev_tu.free()\n",
    "dev_blsp.free()\n",
    "dev_phase1.free()\n",
    "dev_phase2.free()"
   ]
  },
  {
   "cell_type": "code",
   "execution_count": 41,
   "id": "f170bcfe",
   "metadata": {},
   "outputs": [
    {
     "data": {
      "image/png": "[encoded data removed]",
      "text/plain": [
       "<Figure size 288x288 with 1 Axes>"
      ]
     },
     "metadata": {
      "needs_background": "light"
     },
     "output_type": "display_data"
    }
   ],
   "source": [
    "    #plot\n",
    "    fig = plt.figure(figsize=(4,4))\n",
    "    for j in range(0,np.min([nq,5])):\n",
    "        ax=fig.add_subplot(np.min([nq,5]),1,j+1)\n",
    "        ax.plot(np.mod(tu[:,j],Pest[j]), imgout[:,j],\".\",markersize=3)\n",
    "        ax.plot([pphase1[j]],1,\"^\",color=\"black\")\n",
    "        ax.plot([pphase2[j]],1,\"^\",color=\"red\")\n",
    "        #plt.xlim(pphase1[j]-3,pphase2[j]+4)\n",
    "        #plt.ylim(-0.005,0.003)\n",
    "        #plt.text(pphase1[j]-2,0.002,dirlist[j].replace(\"/sharksuck/kic/data/\",\"\"))\n",
    "        #plt.text(pphase1[j]-2,0.0025,\" P=\"+str(round(Pest[j],1))+\"d\"+\" SDE=\"+str(round(sde[j],1)))\n",
    "    plt.xlabel(\"t mod P\")\n",
    "    plt.ylabel(\"relative flux\")\n",
    "    plt.show()"
   ]
  },
  {
   "cell_type": "code",
   "execution_count": null,
   "id": "0908511f",
   "metadata": {},
   "outputs": [],
   "source": []
  },
  {
   "cell_type": "code",
   "execution_count": null,
   "id": "c2e57340",
   "metadata": {},
   "outputs": [],
   "source": []
  },
  {
   "cell_type": "code",
   "execution_count": null,
   "id": "89a46f9f",
   "metadata": {},
   "outputs": [],
   "source": []
  }
 ],
 "metadata": {
  "kernelspec": {
   "display_name": "tf1env",
   "language": "python",
   "name": "tf1env"
  },
  "language_info": {
   "codemirror_mode": {
    "name": "ipython",
    "version": 3
   },
   "file_extension": ".py",
   "mimetype": "text/x-python",
   "name": "python",
   "nbconvert_exporter": "python",
   "pygments_lexer": "ipython3",
   "version": "3.7.11"
  }
 },
 "nbformat": 4,
 "nbformat_minor": 5
}
