{
 "cells": [
  {
   "cell_type": "code",
   "execution_count": 1,
   "id": "08f9bc7a",
   "metadata": {},
   "outputs": [],
   "source": [
    "!set CPLUS_INCLUDE_PATH=D:\\SynologyDrive\\Univ\\kenkyuu\\gtrap\\include"
   ]
  },
  {
   "cell_type": "code",
   "execution_count": 2,
   "id": "e77eae21",
   "metadata": {},
   "outputs": [],
   "source": [
    "import sys\n",
    "sys.path.append('D:\\\\SynologyDrive\\\\Univ\\\\kenkyuu\\\\gtrap\\\\gtrap')"
   ]
  },
  {
   "cell_type": "code",
   "execution_count": 3,
   "id": "b79ea42a",
   "metadata": {},
   "outputs": [],
   "source": [
    "import time\n",
    "import matplotlib.pyplot as plt\n",
    "import math\n",
    "import numpy as np\n",
    "import pycuda.autoinit\n",
    "import pycuda.driver as cuda\n",
    "import pycuda.compiler\n",
    "from pycuda.compiler import SourceModule\n",
    "import geebls\n",
    "import gfilter\n",
    "import getstat\n",
    "import read_tesslc as tes\n",
    "from astropy.io import fits\n",
    "import os"
   ]
  },
  {
   "cell_type": "code",
   "execution_count": 4,
   "id": "2335fc77",
   "metadata": {},
   "outputs": [
    {
     "name": "stdout",
     "output_type": "stream",
     "text": [
      "2 :0.2062082290649414[sec]\n",
      "2000 [1281] 1\n"
     ]
    }
   ],
   "source": [
    "start = time.time()\n",
    "dirlist=[r\"F:\\/QLP/YEAR1/s0001/0000/0002/7882/5952/hlsp_qlp_tess_ffi_s0001-0000000278825952_tess_v01_llc.fits\"]\n",
    "lc,tu,n,ntrue,nq,inval, bjdoffset,t0arr, t, det, info=tes.load_tesslc(dirlist)\n",
    "elapsed_time = time.time() - start\n",
    "print ((\"2 :{0}\".format(elapsed_time)) + \"[sec]\")\n",
    "print(n,ntrue,nq)"
   ]
  },
  {
   "cell_type": "code",
   "execution_count": 5,
   "id": "b406f201",
   "metadata": {},
   "outputs": [],
   "source": [
    "offset,imgout=np.mean(lc,axis=1),lc #???"
   ]
  },
  {
   "cell_type": "code",
   "execution_count": 6,
   "id": "8d08b4b0",
   "metadata": {},
   "outputs": [
    {
     "name": "stdout",
     "output_type": "stream",
     "text": [
      "Pmin= 0.19607920031058948 [d] Pmax= 10.0 [d]\n",
      "166666\n"
     ]
    }
   ],
   "source": [
    "#gbls setting                                                                             \n",
    "qmi = 0.01\n",
    "qma = 0.1\n",
    "#max_period = 1000.0\n",
    "max_period=10.0\n",
    "#min_period = 300.0\n",
    "min_period=0.2\n",
    "#min=(2./(float(5.0))) #### check \n",
    "fmin=(1./(float(max_period))) #### check                                                  \n",
    "df = 0.00003                                                                 \n",
    "nf =  int((1./min_period)/df)\n",
    "nb = 1024\n",
    "min_duration_hours = 0.05\n",
    "max_duration_hours = 1.0\n",
    "qmi = float(min_duration_hours)/24./max_period\n",
    "qma = float(max_duration_hours)/24./min_period\n",
    "#nf = 1024*16*2 #should be power of 2                                                     \n",
    "nb = 1024\n",
    "print(\"Pmin=\",1/(fmin+nf*df),\"[d] Pmax=\",1/fmin,\"[d]\")\n",
    "print(nf)"
   ]
  },
  {
   "cell_type": "code",
   "execution_count": 7,
   "id": "e0d0b107",
   "metadata": {},
   "outputs": [
    {
     "name": "stdout",
     "output_type": "stream",
     "text": [
      "gbls :1.5868029594421387[sec] for # of batch=1\n"
     ]
    }
   ],
   "source": [
    "    tu=np.array(tu,order=\"C\").astype(np.float32)\n",
    "#    imgout=np.array(imgout,order=\"F\").astype(np.float32)\n",
    "    #lc=np.copy(imgout)\n",
    "    #gbls\n",
    "    start = time.time()\n",
    "    dev_offset = cuda.mem_alloc(offset.astype(np.float32).nbytes)\n",
    "    cuda.memcpy_htod(dev_offset,offset.astype(np.float32))\n",
    "    \n",
    "    dev_imgout=cuda.mem_alloc(imgout.astype(np.float32).nbytes)\n",
    "    cuda.memcpy_htod(dev_imgout,imgout.astype(np.float32))\n",
    "    \n",
    "    dev_ntrue = cuda.mem_alloc(ntrue.nbytes)\n",
    "    cuda.memcpy_htod(dev_ntrue,ntrue)\n",
    "    \n",
    "    dev_tu = cuda.mem_alloc(tu.astype(np.float32).nbytes)\n",
    "    cuda.memcpy_htod(dev_tu,tu.astype(np.float32))\n",
    "    \n",
    "    blsp=np.zeros(nf*nq).astype(np.float32)\n",
    "    dev_blsp = cuda.mem_alloc(blsp.nbytes)\n",
    "    \n",
    "    phase1=np.zeros(nf*nq).astype(np.uint32)\n",
    "    dev_phase1 = cuda.mem_alloc(phase1.nbytes) \n",
    "    phase2=np.zeros(nf*nq).astype(np.uint32)\n",
    "    dev_phase2 = cuda.mem_alloc(phase2.nbytes)  \n",
    "    source_module=geebls.gbls_module()\n",
    "    nthread=512\n",
    "    pkernel=source_module.get_function(\"geebls\")\n",
    "    \n",
    "    ##compute kma,kmi,kkmi\n",
    "    kma=int(qma*nb)+1\n",
    "    kmi=int(qmi*nb)\n",
    "    kkmi=int(n*qmi)\n",
    "    sharedsize=int(4*(nb+kma)*2+4*nb)\n",
    "    pkernel(dev_blsp,dev_phase1,dev_phase2,dev_imgout,dev_tu,dev_offset,dev_ntrue,\\\n",
    "            np.uint32(n),np.uint32(nf),np.uint32(nb),\\\n",
    "            np.uint32(kma),np.uint32(kmi),np.uint32(kkmi),\\\n",
    "            np.float32(fmin),np.float32(df),\\\n",
    "            block=(nthread,1,1), grid=(int(nf),int(nq)),shared=sharedsize)\n",
    "    #cuda.memcpy_dtoh(blsp,dev_blsp)\n",
    "    #print(blsp)\n",
    "\n",
    "    elapsed_time = time.time() - start\n",
    "    print ((\"gbls :{0}\".format(elapsed_time)) + \"[sec] for # of batch=\"+str(nq))"
   ]
  },
  {
   "cell_type": "code",
   "execution_count": 8,
   "id": "ba01b2b2",
   "metadata": {},
   "outputs": [],
   "source": [
    "Pest,sde,phasebest1,phasebest2=getstat.get_blsstat(dev_blsp,dev_phase1,dev_phase2,nf,nq,df,fmin)"
   ]
  },
  {
   "cell_type": "code",
   "execution_count": 9,
   "id": "9f581520",
   "metadata": {},
   "outputs": [
    {
     "name": "stdout",
     "output_type": "stream",
     "text": [
      "[2.39028588]\n",
      "[10.43208687]\n",
      "[0.48535156]\n",
      "1024\n",
      "[1.16012899]\n",
      "[1.30952185]\n"
     ]
    }
   ],
   "source": [
    "print(Pest)\n",
    "print(sde)\n",
    "print(phasebest1/nb)\n",
    "print(nb)\n",
    "pphase1=Pest*phasebest1/nb\n",
    "pphase2=Pest*phasebest2/nb\n",
    "print(pphase1)\n",
    "print(pphase2)"
   ]
  },
  {
   "cell_type": "code",
   "execution_count": 10,
   "id": "a303b5d6",
   "metadata": {},
   "outputs": [
    {
     "data": {
      "image/png": "[encoded data removed]",
      "text/plain": [
       "<Figure size 720x720 with 1 Axes>"
      ]
     },
     "metadata": {
      "needs_background": "light"
     },
     "output_type": "display_data"
    }
   ],
   "source": [
    "    #plot\n",
    "    fig = plt.figure(figsize=(10,10))\n",
    "    for j in range(0,np.min([nq,5])):\n",
    "        ax=fig.add_subplot(np.min([nq,5]),1,j+1)\n",
    "        ax.plot(np.mod(tu[:,j],Pest[j]), imgout[:,j],\".\",markersize=3)\n",
    "        ax.plot([pphase1[j]],-0.001,\"^\",color=\"black\")\n",
    "        ax.plot([pphase2[j]],-0.001,\"^\",color=\"red\")\n",
    "        plt.xlim(pphase1[j]-3,pphase2[j]+4)\n",
    "        plt.ylim(-0.005,0.003)\n",
    "        plt.text(pphase1[j]-2,0.002,dirlist[j].replace(\"/sharksuck/kic/data/\",\"\"))\n",
    "        plt.text(pphase1[j]-2,0.0025,\" P=\"+str(round(Pest[j],1))+\"d\"+\" SDE=\"+str(round(sde[j],1)))\n",
    "    plt.xlabel(\"t\")\n",
    "    plt.savefig(\"keplerBLS.png\")\n",
    "    plt.show()"
   ]
  },
  {
   "cell_type": "code",
   "execution_count": null,
   "id": "c1e8ebf4",
   "metadata": {},
   "outputs": [],
   "source": []
  }
 ],
 "metadata": {
  "kernelspec": {
   "display_name": "tf1env",
   "language": "python",
   "name": "tf1env"
  },
  "language_info": {
   "codemirror_mode": {
    "name": "ipython",
    "version": 3
   },
   "file_extension": ".py",
   "mimetype": "text/x-python",
   "name": "python",
   "nbconvert_exporter": "python",
   "pygments_lexer": "ipython3",
   "version": "3.7.11"
  }
 },
 "nbformat": 4,
 "nbformat_minor": 5
}
