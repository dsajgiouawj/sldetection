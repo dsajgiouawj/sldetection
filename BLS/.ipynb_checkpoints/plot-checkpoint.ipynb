{
 "cells": [
  {
   "cell_type": "code",
   "execution_count": 19,
   "id": "76484289",
   "metadata": {},
   "outputs": [],
   "source": [
    "import sys\n",
    "import os\n",
    "sys.path.append('D:\\\\SynologyDrive\\\\Univ\\\\kenkyuu\\\\gtrap\\\\gtrap')\n",
    "os.environ['CPLUS_INCLUDE_PATH']=r'D:\\SynologyDrive\\Univ\\kenkyuu\\gtrap\\include'"
   ]
  },
  {
   "cell_type": "code",
   "execution_count": null,
   "id": "ded47372",
   "metadata": {},
   "outputs": [],
   "source": []
  },
  {
   "cell_type": "code",
   "execution_count": 3,
   "id": "b79ea42a",
   "metadata": {},
   "outputs": [],
   "source": [
    "import time\n",
    "import matplotlib.pyplot as plt\n",
    "import math\n",
    "import numpy as np\n",
    "import pycuda.autoinit\n",
    "import pycuda.driver as cuda\n",
    "import pycuda.compiler\n",
    "from pycuda.compiler import SourceModule\n",
    "import geebls\n",
    "import gfilter\n",
    "import getstat\n",
    "import read_tesslc as tes\n",
    "from astropy.io import fits"
   ]
  },
  {
   "cell_type": "code",
   "execution_count": 4,
   "id": "b8dc9ebc",
   "metadata": {},
   "outputs": [],
   "source": [
    "def filename(sector,tic):\n",
    "    if sector<=13:\n",
    "        filename='F'\n",
    "    else:\n",
    "        filename='G'\n",
    "    filename=filename+':\\\\/QLP/YEAR'\n",
    "    if sector<=13:\n",
    "        filename=filename+'1'\n",
    "    else:\n",
    "        filename=filename+'2'\n",
    "    filename=filename+'/s'+str(sector).zfill(4)+'/'\n",
    "    filename=filename+str(tic//1000000000000).zfill(4)+'/'+str(tic//100000000%10000).zfill(4)+'/'+str(tic//10000%10000).zfill(4)+'/'+str(tic%10000).zfill(4)+'/'\n",
    "    filename=filename+'hlsp_qlp_tess_ffi_s'+str(sector).zfill(4)+'-'+str(tic).zfill(16)+'_tess_v01_llc.fits'\n",
    "    return filename  "
   ]
  },
  {
   "cell_type": "code",
   "execution_count": 5,
   "id": "2335fc77",
   "metadata": {},
   "outputs": [
    {
     "name": "stdout",
     "output_type": "stream",
     "text": [
      "['G:\\\\/QLP/YEAR2/s0014/0000/0001/2096/1612/hlsp_qlp_tess_ffi_s0014-0000000120961612_tess_v01_llc.fits']\n",
      "2 :0.1946558952331543[sec]\n",
      "2000 [1241] 1\n"
     ]
    }
   ],
   "source": [
    "start = time.time()\n",
    "dirlist=[filename(14,120961612)]\n",
    "print(dirlist)\n",
    "lc,tu,n,ntrue,nq,inval, bjdoffset,t0arr, t, det, info=tes.load_tesslc(dirlist)\n",
    "lc=2.0-lc\n",
    "elapsed_time = time.time() - start\n",
    "print ((\"2 :{0}\".format(elapsed_time)) + \"[sec]\")\n",
    "print(n,ntrue,nq)"
   ]
  },
  {
   "cell_type": "code",
   "execution_count": 6,
   "id": "0a457804",
   "metadata": {},
   "outputs": [],
   "source": [
    "lc=lc[tu!=[inval]]\n",
    "tu=tu[tu!=[inval]]\n",
    "lc=lc[tu!=[0.]]\n",
    "tu=tu[tu!=[0.]]\n",
    "lc=lc.reshape([len(lc),1])\n",
    "tu=tu.reshape([len(tu),1])\n",
    "n=len(lc)\n",
    "ntrue=np.array([n])"
   ]
  },
  {
   "cell_type": "code",
   "execution_count": 7,
   "id": "d2a3789e",
   "metadata": {},
   "outputs": [
    {
     "name": "stdout",
     "output_type": "stream",
     "text": [
      "[[1684.4056]\n",
      " [1684.4264]\n",
      " [1684.4473]\n",
      " ...\n",
      " [1711.1351]\n",
      " [1711.1559]\n",
      " [1711.1768]]\n"
     ]
    }
   ],
   "source": [
    "print(tu)"
   ]
  },
  {
   "cell_type": "code",
   "execution_count": 8,
   "id": "5689ca6f",
   "metadata": {},
   "outputs": [],
   "source": [
    "offset,imgout=np.mean(lc,axis=1),lc #???"
   ]
  },
  {
   "cell_type": "code",
   "execution_count": 9,
   "id": "8d08b4b0",
   "metadata": {},
   "outputs": [
    {
     "name": "stdout",
     "output_type": "stream",
     "text": [
      "Pmin= 0.19607920031058948 [d] Pmax= 10.0 [d]\n",
      "166666\n"
     ]
    }
   ],
   "source": [
    "qmi = 0.01\n",
    "qma = 0.1\n",
    "max_period=10.0\n",
    "min_period=0.2 \n",
    "fmin=(1./(float(max_period)))                                          \n",
    "df = 0.00003                                                                 \n",
    "nf =  int((1./min_period)/df)\n",
    "nb = 1024\n",
    "min_duration_hours = 0.05\n",
    "max_duration_hours = 1.0\n",
    "qmi = float(min_duration_hours)/24./max_period\n",
    "qma = float(max_duration_hours)/24./min_period                                                 \n",
    "nb = 1024\n",
    "print(\"Pmin=\",1/(fmin+nf*df),\"[d] Pmax=\",1/fmin,\"[d]\")\n",
    "print(nf)"
   ]
  },
  {
   "cell_type": "code",
   "execution_count": 10,
   "id": "e0d0b107",
   "metadata": {},
   "outputs": [
    {
     "name": "stdout",
     "output_type": "stream",
     "text": [
      "gbls :1.4709866046905518[sec] for # of batch=1\n"
     ]
    }
   ],
   "source": [
    "    tu=np.array(tu,order=\"C\").astype(np.float32)\n",
    "    start = time.time()\n",
    "    dev_offset = cuda.mem_alloc(offset.astype(np.float32).nbytes)\n",
    "    cuda.memcpy_htod(dev_offset,offset.astype(np.float32))\n",
    "    \n",
    "    dev_imgout=cuda.mem_alloc(imgout.astype(np.float32).nbytes)\n",
    "    cuda.memcpy_htod(dev_imgout,imgout.astype(np.float32))\n",
    "    \n",
    "    dev_ntrue = cuda.mem_alloc(ntrue.nbytes)\n",
    "    cuda.memcpy_htod(dev_ntrue,ntrue)\n",
    "    \n",
    "    dev_tu = cuda.mem_alloc(tu.astype(np.float32).nbytes)\n",
    "    cuda.memcpy_htod(dev_tu,tu.astype(np.float32))\n",
    "    \n",
    "    blsp=np.zeros(nf*nq).astype(np.float32)\n",
    "    dev_blsp = cuda.mem_alloc(blsp.nbytes)\n",
    "    \n",
    "    phase1=np.zeros(nf*nq).astype(np.uint32)\n",
    "    dev_phase1 = cuda.mem_alloc(phase1.nbytes) \n",
    "    phase2=np.zeros(nf*nq).astype(np.uint32)\n",
    "    dev_phase2 = cuda.mem_alloc(phase2.nbytes)  \n",
    "    source_module=geebls.gbls_module()\n",
    "    nthread=512\n",
    "    pkernel=source_module.get_function(\"geebls\")\n",
    "    \n",
    "    ##compute kma,kmi,kkmi\n",
    "    kma=int(qma*nb)+1\n",
    "    kmi=int(qmi*nb)\n",
    "    kkmi=int(n*qmi)\n",
    "    sharedsize=int(4*(nb+kma)*2+4*nb)\n",
    "    pkernel(dev_blsp,dev_phase1,dev_phase2,dev_imgout,dev_tu,dev_offset,dev_ntrue,\\\n",
    "            np.uint32(n),np.uint32(nf),np.uint32(nb),\\\n",
    "            np.uint32(kma),np.uint32(kmi),np.uint32(kkmi),\\\n",
    "            np.float32(fmin),np.float32(df),\\\n",
    "            block=(nthread,1,1), grid=(int(nf),int(nq)),shared=sharedsize)\n",
    "    #cuda.memcpy_dtoh(blsp,dev_blsp)\n",
    "    #print(blsp)\n",
    "\n",
    "    elapsed_time = time.time() - start\n",
    "    print ((\"gbls :{0}\".format(elapsed_time)) + \"[sec] for # of batch=\"+str(nq))"
   ]
  },
  {
   "cell_type": "code",
   "execution_count": 11,
   "id": "ba01b2b2",
   "metadata": {},
   "outputs": [],
   "source": [
    "Pest,sde,phasebest1,phasebest2=getstat.get_blsstat(dev_blsp,dev_phase1,dev_phase2,nf,nq,df,fmin)"
   ]
  },
  {
   "cell_type": "code",
   "execution_count": 12,
   "id": "9f581520",
   "metadata": {},
   "outputs": [
    {
     "name": "stdout",
     "output_type": "stream",
     "text": [
      "[1.07975036]\n",
      "[2.280929]\n",
      "[0.52636719]\n",
      "1024\n",
      "[0.56834516]\n",
      "[0.79294167]\n",
      "[5.39031626]\n"
     ]
    }
   ],
   "source": [
    "print(Pest)\n",
    "print(sde)\n",
    "print(phasebest1/nb)\n",
    "print(nb)\n",
    "pphase1=Pest*phasebest1/nb\n",
    "pphase2=Pest*phasebest2/nb\n",
    "print(pphase1)\n",
    "print(pphase2)\n",
    "print((pphase2-pphase1)*24)"
   ]
  },
  {
   "cell_type": "code",
   "execution_count": 15,
   "id": "9b4cd025",
   "metadata": {},
   "outputs": [
    {
     "name": "stdout",
     "output_type": "stream",
     "text": [
      "[0.00118897 0.00118414 0.00118529 ... 0.00106162 0.00105437 0.00105461]\n"
     ]
    }
   ],
   "source": [
    "#load BLS spectra on device\n",
    "#cuda.memcpy_dtoh(blsp,dev_blsp)\n",
    "#print(blsp)"
   ]
  },
  {
   "cell_type": "code",
   "execution_count": 17,
   "id": "0649a445",
   "metadata": {},
   "outputs": [],
   "source": [
    "dev_offset.free()\n",
    "dev_imgout.free()\n",
    "dev_ntrue.free()\n",
    "dev_tu.free()\n",
    "dev_blsp.free()\n",
    "dev_phase1.free()\n",
    "dev_phase2.free()"
   ]
  }
 ],
 "metadata": {
  "kernelspec": {
   "display_name": "tf1env",
   "language": "python",
   "name": "tf1env"
  },
  "language_info": {
   "codemirror_mode": {
    "name": "ipython",
    "version": 3
   },
   "file_extension": ".py",
   "mimetype": "text/x-python",
   "name": "python",
   "nbconvert_exporter": "python",
   "pygments_lexer": "ipython3",
   "version": "3.7.11"
  }
 },
 "nbformat": 4,
 "nbformat_minor": 5
}
