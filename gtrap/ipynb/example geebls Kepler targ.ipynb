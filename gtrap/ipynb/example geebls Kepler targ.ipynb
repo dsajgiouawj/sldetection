{
 "cells": [
  {
   "cell_type": "code",
   "execution_count": 11,
   "metadata": {
    "collapsed": false
   },
   "outputs": [
    {
     "name": "stdout",
     "output_type": "stream",
     "text": [
      "The autoreload extension is already loaded. To reload it, use:\n",
      "  %reload_ext autoreload\n"
     ]
    }
   ],
   "source": [
    "#%matplotlib inline\n",
    "%load_ext autoreload\n",
    "%autoreload 2\n",
    "\n",
    "import time\n",
    "import matplotlib.pyplot as plt\n",
    "import math\n",
    "import numpy as np\n",
    "import pycuda.autoinit\n",
    "import pycuda.driver as cuda\n",
    "import pycuda.compiler\n",
    "from pycuda.compiler import SourceModule\n",
    "import sys\n",
    "import geebls\n",
    "import gfilter\n",
    "import getstat\n",
    "import read_keplerlc as keplc\n",
    "import read_keplertarg as kep\n",
    "from astropy import wcs\n",
    "from astropy.io import fits\n",
    "import pylab"
   ]
  },
  {
   "cell_type": "code",
   "execution_count": 2,
   "metadata": {
    "collapsed": false
   },
   "outputs": [],
   "source": [
    "def getwcoord(pixcoord1,pixcoord2):\n",
    "    pixcoord=np.array([pixcoord1,pixcoord2]).transpose()\n",
    "    wcoord=[]\n",
    "    for i in range(0,pixcoord.shape[0]): \n",
    "        wc=w.wcs_pix2world(pixcoord[i],1)\n",
    "        wcoord.append(wc)\n",
    "    wcoord=np.array(wcoord) #RA DEC coordinate\n",
    "    return wcoord"
   ]
  },
  {
   "cell_type": "code",
   "execution_count": 31,
   "metadata": {
    "collapsed": false
   },
   "outputs": [
    {
     "name": "stdout",
     "output_type": "stream",
     "text": [
      "/home/kawahara/gbls/targ/003835482//*fits.gz\n",
      "['003835482-2009166043257', '003835482-2009259160929', '003835482-2009350155506', '003835482-2010078095331', '003835482-2010174085026', '003835482-2010265121752', '003835482-2010355172524', '003835482-2011073133259', '003835482-2011177032512', '003835482-2011271113734', '003835482-2012004120508', '003835482-2012088054726', '003835482-2012179063303', '003835482-2012277125453', '003835482-2013011073258', '003835482-2013098041711', '003835482-2013131215648']\n"
     ]
    }
   ],
   "source": [
    "mydir=\"/home/kawahara/gbls/\"\n",
    "taglist=kep.get_taglist(mydir,\"003835482/\")\n",
    "print(taglist)"
   ]
  },
  {
   "cell_type": "code",
   "execution_count": 47,
   "metadata": {
    "collapsed": false
   },
   "outputs": [
    {
     "name": "stdout",
     "output_type": "stream",
     "text": [
      "/home/kawahara/gbls//targ/003835482/kplr003835482-2009166043257_lpd-targ.fits.gz\n",
      "1.0\n",
      "[[ 1103.  1103.  1103.  1103.  1103.  1103.  1103.]\n",
      " [ 1104.  1104.  1104.  1104.  1104.  1104.  1104.]\n",
      " [ 1105.  1105.  1105.  1105.  1105.  1105.  1105.]\n",
      " [ 1106.  1106.  1106.  1106.  1106.  1106.  1106.]\n",
      " [ 1107.  1107.  1107.  1107.  1107.  1107.  1107.]\n",
      " [ 1108.  1108.  1108.  1108.  1108.  1108.  1108.]\n",
      " [ 1109.  1109.  1109.  1109.  1109.  1109.  1109.]\n",
      " [ 1110.  1110.  1110.  1110.  1110.  1110.  1110.]]\n"
     ]
    },
    {
     "data": {
      "image/png": "[encoded data removed]",
      "text/plain": [
       "<matplotlib.figure.Figure at 0x7f6a91cb96a0>"
      ]
     },
     "metadata": {},
     "output_type": "display_data"
    }
   ],
   "source": [
    "fig=plt.figure(figsize=(5,5))\n",
    "ax=fig.add_subplot(111)\n",
    "for i in range(0,1):\n",
    "    filetag=taglist[i]#1,4,7,11\n",
    "    targfile=\"kplr\"+filetag+\"_lpd-targ.fits.gz\"\n",
    "    infile=mydir+\"/targ/003835482/\"+targfile\n",
    "    print(infile)\n",
    "    hdulist=fits.open(infile)\n",
    "    w=wcs.WCS(hdulist[2].header)\n",
    "    maskimg, pixcoord1, pixcoord2, status= kep.readMaskDefinition(infile)\n",
    "    print(cdelt2p)\n",
    "    wc=getwcoord(pixcoord1,pixcoord2)\n",
    "    n=len(maskimg.flatten())\n",
    "    print(pixcoord1)\n",
    "    ax.plot(wc.reshape(n,2).transpose()[0],wc.reshape(n,2).transpose()[1],\".\")\n",
    "plt.gca().get_xaxis().get_major_formatter().set_useOffset(False)\n",
    "plt.gca().get_yaxis().get_major_formatter().set_useOffset(False)\n",
    "pylab.xlabel(\"RA\")\n",
    "pylab.ylabel(\"DEC\")\n",
    "plt.show()"
   ]
  },
  {
   "cell_type": "code",
   "execution_count": 21,
   "metadata": {
    "collapsed": false
   },
   "outputs": [
    {
     "data": {
      "image/png": "[encoded data removed]",
      "text/plain": [
       "<matplotlib.figure.Figure at 0x7f6a929aebe0>"
      ]
     },
     "metadata": {},
     "output_type": "display_data"
    }
   ],
   "source": [
    "fig=plt.figure()\n",
    "ax=fig.add_subplot(121)\n",
    "ax.imshow(flux,aspect=0.01)\n",
    "ax=fig.add_subplot(122)\n",
    "ax.imshow(flux2,aspect=0.01)\n",
    "plt.show()"
   ]
  },
  {
   "cell_type": "code",
   "execution_count": null,
   "metadata": {
    "collapsed": true
   },
   "outputs": [],
   "source": []
  }
 ],
 "metadata": {
  "kernelspec": {
   "display_name": "Python 3",
   "language": "python",
   "name": "python3"
  },
  "language_info": {
   "codemirror_mode": {
    "name": "ipython",
    "version": 3
   },
   "file_extension": ".py",
   "mimetype": "text/x-python",
   "name": "python",
   "nbconvert_exporter": "python",
   "pygments_lexer": "ipython3",
   "version": "3.6.0"
  },
  "toc": {
   "colors": {
    "hover_highlight": "#DAA520",
    "navigate_num": "#000000",
    "navigate_text": "#333333",
    "running_highlight": "#FF0000",
    "selected_highlight": "#FFD700",
    "sidebar_border": "#EEEEEE",
    "wrapper_background": "#FFFFFF"
   },
   "moveMenuLeft": true,
   "nav_menu": {
    "height": "11px",
    "width": "251px"
   },
   "navigate_menu": true,
   "number_sections": true,
   "sideBar": true,
   "threshold": 4,
   "toc_cell": false,
   "toc_section_display": "block",
   "toc_window_display": false,
   "widenNotebook": false
  }
 },
 "nbformat": 4,
 "nbformat_minor": 2
}
